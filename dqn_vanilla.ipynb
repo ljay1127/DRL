{
 "cells": [
  {
   "cell_type": "code",
   "execution_count": 6,
   "metadata": {
    "id": "Tsrs09PAPU4p"
   },
   "outputs": [],
   "source": [
    "import numpy as np\n",
    "import pandas as pd\n",
    "from tensorflow.keras.layers import Dense, Input\n",
    "from tensorflow.keras import Sequential, Model\n",
    "from tensorflow.keras.optimizers import Adam\n",
    "from collections import deque\n",
    "import random\n",
    "from IPython.display import clear_output\n",
    "import gym\n",
    "import matplotlib.pyplot as plt"
   ]
  },
  {
   "cell_type": "code",
   "execution_count": 7,
   "metadata": {
    "id": "uTjR-2xTPn3s"
   },
   "outputs": [],
   "source": [
    "class DQN_Agent:\n",
    "  def __init__(self, input_shape, n_actions):\n",
    "    self.rng = 1\n",
    "    self.rng_min = 0.1\n",
    "    self.rng_decay = 0.95\n",
    "    self.discount = 0.95\n",
    "    self.weights='weights'\n",
    "    self.decay_ctr = 0\n",
    "\n",
    "    self.memory = deque(maxlen=20_000)\n",
    "\n",
    "    self.input_shape = input_shape\n",
    "    self.n_actions = n_actions\n",
    "    self.model = self.create_model()\n",
    "\n",
    "  def create_model(self):\n",
    "    input = Input(shape=(4,))\n",
    "    x = Dense(32, activation='relu')(input)\n",
    "    x = Dense(16, activation='relu')(x)\n",
    "    x = Dense(16, activation='relu')(x)\n",
    "    output = Dense(self.n_actions, activation='linear')(x)\n",
    "    \n",
    "    model = Model(inputs=input, outputs=output)\n",
    "    model.compile(optimizer='adam', loss='mse', metrics=['accuracy'])\n",
    "\n",
    "    return model\n",
    "\n",
    "  def remember(self, state, action, reward, state_, done):\n",
    "    self.memory.append([state, action, reward, state_, done])\n",
    "\n",
    "  def save(self):\n",
    "    self.model.save_weights(self.weights)\n",
    "\n",
    "  def load(self):\n",
    "    self.model.load_weights(self.weights)\n",
    "\n",
    "  def action(self, state):\n",
    "    if random.random() < self.rng:\n",
    "      return random.randint(0, self.n_actions - 1)\n",
    "    else:\n",
    "      return np.argmax(self.predict(state))\n",
    "\n",
    "  def predict(self, state):\n",
    "    return self.model.predict(np.reshape(state, (1, self.input_shape)))\n",
    "\n",
    "  def train(self):\n",
    "    if len(self.memory) < 5_000:\n",
    "      return\n",
    "\n",
    "    self.decay_ctr += 1\n",
    "\n",
    "    mini_batch = random.sample(self.memory, 32)\n",
    "    states = np.array([memory[0] for memory in mini_batch])\n",
    "    states_ = np.array([memory[3] for memory in mini_batch])\n",
    "    qs = self.model.predict(states)\n",
    "    qs_ = self.model.predict(states_)\n",
    "\n",
    "    X = states\n",
    "    y = []\n",
    "\n",
    "    for i, memory in enumerate(mini_batch):\n",
    "      action = memory[1]\n",
    "      reward = memory[2]\n",
    "      done = memory[4]\n",
    "\n",
    "      if done:\n",
    "        q = reward\n",
    "      else:\n",
    "        q = reward + self.discount * np.max(qs_[i])\n",
    "\n",
    "      qs[i][action] = q\n",
    "      y.append(qs)\n",
    "    \n",
    "    self.model.fit(X, np.array(y), verbose=0, shuffle=False)\n",
    "\n",
    "    if self.decay_ctr > 10:\n",
    "      self.decay_rng()\n",
    "      self.decay_ctr = 0\n",
    "\n",
    "  def decay_rng(self):\n",
    "    self.rng = self.rng * self.rng_decay\n",
    "    if self.rng < self.rng_min:\n",
    "      self.rng = self.rng_min"
   ]
  },
  {
   "cell_type": "code",
   "execution_count": 8,
   "metadata": {
    "id": "peYQp8fdUl65"
   },
   "outputs": [],
   "source": [
    "env = gym.make('CartPole-v0')\n",
    "agent = DQN_Agent(4, env.action_space.n)\n",
    "score_record = []"
   ]
  },
  {
   "cell_type": "code",
   "execution_count": 9,
   "metadata": {
    "colab": {
     "base_uri": "https://localhost:8080/"
    },
    "id": "TcV7g3Gpr4Y2",
    "outputId": "ae119830-a401-4232-a7bc-6a2338da52a4"
   },
   "outputs": [
    {
     "name": "stdout",
     "output_type": "stream",
     "text": [
      "Model: \"model_1\"\n",
      "_________________________________________________________________\n",
      "Layer (type)                 Output Shape              Param #   \n",
      "=================================================================\n",
      "input_2 (InputLayer)         [(None, 4)]               0         \n",
      "_________________________________________________________________\n",
      "dense_4 (Dense)              (None, 32)                160       \n",
      "_________________________________________________________________\n",
      "dense_5 (Dense)              (None, 16)                528       \n",
      "_________________________________________________________________\n",
      "dense_6 (Dense)              (None, 16)                272       \n",
      "_________________________________________________________________\n",
      "dense_7 (Dense)              (None, 2)                 34        \n",
      "=================================================================\n",
      "Total params: 994\n",
      "Trainable params: 994\n",
      "Non-trainable params: 0\n",
      "_________________________________________________________________\n"
     ]
    }
   ],
   "source": [
    "agent.model.summary()"
   ]
  },
  {
   "cell_type": "code",
   "execution_count": 10,
   "metadata": {
    "colab": {
     "base_uri": "https://localhost:8080/"
    },
    "id": "UHhKLWp_ULrb",
    "outputId": "dd56a9dd-0c54-4fb2-e4b7-9e44597cfb3c"
   },
   "outputs": [
    {
     "name": "stdout",
     "output_type": "stream",
     "text": [
      "Episode: 300\n",
      "Score: 132.0\n",
      "Agent RNG:0.1\n"
     ]
    }
   ],
   "source": [
    "episodes = 300\n",
    "for episode in range(1, (episodes + 1)):\n",
    "  state = env.reset()\n",
    "  done = False\n",
    "  score = 0\n",
    "  while not done:\n",
    "    #env.render()\n",
    "    action = agent.action(state)\n",
    "    state_, reward, done, info = env.step(action)\n",
    "    score += reward\n",
    "\n",
    "    if done:\n",
    "      reward = -20\n",
    "\n",
    "    agent.remember(state, action, reward, state_, done)\n",
    "    agent.train()\n",
    "\n",
    "    if done:\n",
    "      clear_output(wait=True)\n",
    "      print(f'Episode: {episode}\\nScore: {score}\\nAgent RNG:{agent.rng}')\n",
    "      score_record.append(score)\n",
    "\n",
    "    state = state_\n",
    "env.close()"
   ]
  },
  {
   "cell_type": "code",
   "execution_count": 11,
   "metadata": {
    "id": "bS4ceZumbU0c"
   },
   "outputs": [
    {
     "data": {
      "text/plain": [
       "[<matplotlib.lines.Line2D at 0x23cd97770d0>]"
      ]
     },
     "execution_count": 11,
     "metadata": {},
     "output_type": "execute_result"
    },
    {
     "data": {
      "image/png": "[encoded data removed]",
      "text/plain": [
       "<Figure size 432x288 with 1 Axes>"
      ]
     },
     "metadata": {
      "needs_background": "light"
     },
     "output_type": "display_data"
    }
   ],
   "source": [
    "plt.plot(score_record)"
   ]
  },
  {
   "cell_type": "code",
   "execution_count": 12,
   "metadata": {
    "id": "ft3OjWs5YKuJ"
   },
   "outputs": [],
   "source": [
    "def save_score():\n",
    "  fh = open('score.txt', 'a')\n",
    "  fh.write(score)\n",
    "  fh.close()"
   ]
  }
 ],
 "metadata": {
  "colab": {
   "collapsed_sections": [],
   "name": "Untitled1.ipynb",
   "provenance": []
  },
  "kernelspec": {
   "display_name": "Python 3",
   "language": "python",
   "name": "python3"
  },
  "language_info": {
   "codemirror_mode": {
    "name": "ipython",
    "version": 3
   },
   "file_extension": ".py",
   "mimetype": "text/x-python",
   "name": "python",
   "nbconvert_exporter": "python",
   "pygments_lexer": "ipython3",
   "version": "3.8.5"
  }
 },
 "nbformat": 4,
 "nbformat_minor": 4
}
