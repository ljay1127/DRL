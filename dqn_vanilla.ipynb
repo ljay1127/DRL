{
  "nbformat": 4,
  "nbformat_minor": 0,
  "metadata": {
    "colab": {
      "name": "Untitled1.ipynb",
      "provenance": [],
      "collapsed_sections": []
    },
    "kernelspec": {
      "name": "python3",
      "display_name": "Python 3"
    },
    "language_info": {
      "name": "python"
    }
  },
  "cells": [
    {
      "cell_type": "code",
      "metadata": {
        "id": "Tsrs09PAPU4p"
      },
      "source": [
        "import numpy as np\n",
        "import pandas as pd\n",
        "from tensorflow.keras.layers import Dense, Input\n",
        "from tensorflow.keras import Sequential, Model\n",
        "from tensorflow.keras.optimizers import Adam\n",
        "from collections import deque\n",
        "import random\n",
        "from IPython.display import clear_output\n",
        "import gym\n",
        "import matplotlib.pyplot as plt"
      ],
      "execution_count": 45,
      "outputs": []
    },
    {
      "cell_type": "code",
      "metadata": {
        "id": "uTjR-2xTPn3s"
      },
      "source": [
        "class DQN_Agent:\n",
        "  def __init__(self, input_shape, n_actions):\n",
        "    self.rng = 1\n",
        "    self.rng_min = 0.1\n",
        "    self.rng_decay = 0.95\n",
        "    self.discount = 0.95\n",
        "    self.weights='weights'\n",
        "    self.decay_ctr = 0\n",
        "\n",
        "    self.memory = deque(maxlen=20_000)\n",
        "\n",
        "    self.input_shape = input_shape\n",
        "    self.n_actions = n_actions\n",
        "    self.model = self.create_model()\n",
        "\n",
        "  def create_model(self):\n",
        "    input = Input(shape=(4,))\n",
        "    x = Dense(32, activation='relu')(input)\n",
        "    x = Dense(16, activation='relu')(x)\n",
        "    x = Dense(16, activation='relu')(x)\n",
        "    output = Dense(self.n_actions, activation='linear')(x)\n",
        "    \n",
        "    model = Model(inputs=input, outputs=output)\n",
        "    model.compile(optimizer='adam', loss='mse', metrics=['accuracy'])\n",
        "\n",
        "    return model\n",
        "\n",
        "  def remember(self, state, action, reward, state_, done):\n",
        "    self.memory.append([state, action, reward, state_, done])\n",
        "\n",
        "  def save(self):\n",
        "    self.model.save_weights(self.weights)\n",
        "\n",
        "  def load(self):\n",
        "    self.model.load_weights(self.weights)\n",
        "\n",
        "  def action(self, state):\n",
        "    if random.random() < self.rng:\n",
        "      return random.randint(0, self.n_actions - 1)\n",
        "    else:\n",
        "      return np.argmax(self.predict(state))\n",
        "\n",
        "  def predict(self, state):\n",
        "    return self.model.predict(np.reshape(state, (1, self.input_shape)))\n",
        "\n",
        "  def train(self):\n",
        "    if len(self.memory) < 10_000:\n",
        "      return\n",
        "\n",
        "    self.decay_ctr += 1\n",
        "\n",
        "    mini_batch = random.sample(self.memory, 32)\n",
        "    states = np.array([memory[0] for memory in mini_batch])\n",
        "    states_ = np.array([memory[3] for memory in mini_batch])\n",
        "    qs = self.model.predict(states)\n",
        "    qs_ = self.model.predict(states_)\n",
        "\n",
        "    X = states\n",
        "    y = []\n",
        "\n",
        "    for i, memory in enumerate(mini_batch):\n",
        "      action = memory[1]\n",
        "      reward = memory[2]\n",
        "      done = memory[4]\n",
        "\n",
        "      if done:\n",
        "        q = reward\n",
        "      else:\n",
        "        q = reward + self.discount * np.max(qs_[i])\n",
        "\n",
        "      qs[i][action] = q\n",
        "      y.append(qs)\n",
        "    \n",
        "    self.model.fit(X, np.array(y), verbose=0, shuffle=False)\n",
        "\n",
        "    if self.decay_ctr > 10:\n",
        "      self.decay_rng()\n",
        "      self.decay_ctr = 0\n",
        "\n",
        "  def decay_rng(self):\n",
        "    self.rng = self.rng * self.rng_decay\n",
        "    if self.rng < self.rng_min:\n",
        "      self.rng = self.rng_min"
      ],
      "execution_count": 46,
      "outputs": []
    },
    {
      "cell_type": "code",
      "metadata": {
        "id": "peYQp8fdUl65"
      },
      "source": [
        "env = gym.make('CartPole-v0')\n",
        "agent = DQN_Agent(4, env.action_space.n)\n",
        "score_record = []"
      ],
      "execution_count": 47,
      "outputs": []
    },
    {
      "cell_type": "code",
      "metadata": {
        "colab": {
          "base_uri": "https://localhost:8080/"
        },
        "id": "TcV7g3Gpr4Y2",
        "outputId": "ae119830-a401-4232-a7bc-6a2338da52a4"
      },
      "source": [
        "agent.model.summary()"
      ],
      "execution_count": 48,
      "outputs": [
        {
          "output_type": "stream",
          "text": [
            "Model: \"model_1\"\n",
            "_________________________________________________________________\n",
            "Layer (type)                 Output Shape              Param #   \n",
            "=================================================================\n",
            "input_4 (InputLayer)         [(None, 4)]               0         \n",
            "_________________________________________________________________\n",
            "dense_21 (Dense)             (None, 32)                160       \n",
            "_________________________________________________________________\n",
            "dense_22 (Dense)             (None, 16)                528       \n",
            "_________________________________________________________________\n",
            "dense_23 (Dense)             (None, 16)                272       \n",
            "_________________________________________________________________\n",
            "dense_24 (Dense)             (None, 2)                 34        \n",
            "=================================================================\n",
            "Total params: 994\n",
            "Trainable params: 994\n",
            "Non-trainable params: 0\n",
            "_________________________________________________________________\n"
          ],
          "name": "stdout"
        }
      ]
    },
    {
      "cell_type": "code",
      "metadata": {
        "colab": {
          "base_uri": "https://localhost:8080/"
        },
        "id": "UHhKLWp_ULrb",
        "outputId": "dd56a9dd-0c54-4fb2-e4b7-9e44597cfb3c"
      },
      "source": [
        "episodes = 1_000\n",
        "for episode in range(1, (episodes + 1)):\n",
        "  state = env.reset()\n",
        "  done = False\n",
        "  score = 0\n",
        "  while not done:\n",
        "    action = agent.action(state)\n",
        "    state_, reward, done, info = env.step(action)\n",
        "    score += reward\n",
        "\n",
        "    if done:\n",
        "      reward = -20\n",
        "\n",
        "    agent.remember(state, action, reward, state_, done)\n",
        "\n",
        "    if done:\n",
        "      agent.train()\n",
        "      clear_output(wait=True)\n",
        "      print(f'Episode: {episode}\\nScore: {score}\\nAgent RNG:{agent.rng}')\n",
        "      score_record.append(score)\n",
        "\n",
        "    state = state_"
      ],
      "execution_count": null,
      "outputs": [
        {
          "output_type": "stream",
          "text": [
            "Episode: 940\n",
            "Score: 70.0\n",
            "Agent RNG:0.1\n"
          ],
          "name": "stdout"
        }
      ]
    },
    {
      "cell_type": "code",
      "metadata": {
        "id": "bS4ceZumbU0c"
      },
      "source": [
        "plt.plot(score_record)"
      ],
      "execution_count": null,
      "outputs": []
    },
    {
      "cell_type": "code",
      "metadata": {
        "id": "ft3OjWs5YKuJ"
      },
      "source": [
        "def save_score():\n",
        "  fh = open('score.txt', 'a')\n",
        "  fh.write(score)\n",
        "  fh.close()"
      ],
      "execution_count": null,
      "outputs": []
    }
  ]
}