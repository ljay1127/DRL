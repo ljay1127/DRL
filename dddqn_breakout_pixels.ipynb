{
 "cells": [
  {
   "cell_type": "code",
   "execution_count": 5,
   "metadata": {
    "id": "Tsrs09PAPU4p"
   },
   "outputs": [],
   "source": [
    "import numpy as np\n",
    "import pandas as pd\n",
    "import tensorflow as tf\n",
    "from tensorflow.keras.layers import Dense, Input, Conv2D, MaxPool2D, Flatten\n",
    "from tensorflow.keras import Sequential, Model\n",
    "from tensorflow.keras.optimizers import Adam\n",
    "from collections import deque\n",
    "import random\n",
    "from IPython.display import clear_output\n",
    "import gym\n",
    "import matplotlib.pyplot as plt\n",
    "from PIL import Image"
   ]
  },
  {
   "cell_type": "code",
   "execution_count": 6,
   "metadata": {
    "id": "uTjR-2xTPn3s"
   },
   "outputs": [],
   "source": [
    "class DQN_Agent:\n",
    "  def __init__(self, input_shape, n_actions):\n",
    "    self.rng = 1\n",
    "    self.rng_min = 0.1\n",
    "    self.rng_decay = 0.995\n",
    "    self.discount = 0.95\n",
    "    self.weights='weights'\n",
    "    self.decay_ctr = 0\n",
    "    self.transfer_weight_ctr = 0\n",
    "\n",
    "    self.memory = deque(maxlen=20_000)\n",
    "\n",
    "    self.input_shape = input_shape\n",
    "    self.n_actions = n_actions\n",
    "    self.model = self.create_model()\n",
    "    self.target_model = self.create_model()\n",
    "    self.transfer_weights()\n",
    "\n",
    "  def create_model(self):\n",
    "    input = Input(shape=self.input_shape)\n",
    "    x = Conv2D(16, kernel_size=(8,8), strides=(4,4), padding='same', activation='relu')(input)\n",
    "    x = Conv2D(32, kernel_size=(4,4), strides=(2,2), padding='same', activation='relu')(x)\n",
    "    x = Conv2D(64, kernel_size=(2,2), strides=(1,1), padding='same', activation='relu')(x)\n",
    "    x = Flatten()(x)\n",
    "    x = Dense(256, activation='relu')(x)\n",
    "    x = Dense(128, activation='relu')(x)\n",
    "    V = Dense(1, activation='linear')(x)\n",
    "    A = Dense(self.n_actions, activation='linear')(x)\n",
    "    Q = V + tf.subtract(A, tf.reduce_mean(A, axis=1, keepdims=True))\n",
    "    \n",
    "    model = Model(inputs=input, outputs=Q)\n",
    "    model.compile(optimizer='adam', loss='mse', metrics=['accuracy'])\n",
    "\n",
    "    return model\n",
    "\n",
    "  def remember(self, state, action, reward, state_, done):\n",
    "    self.memory.append([state, action, reward, state_, done])\n",
    "\n",
    "  def save(self):\n",
    "    self.model.save_weights(self.weights)\n",
    "\n",
    "  def load(self):\n",
    "    self.model.load_weights(self.weights)\n",
    "    self.transfer_weights()\n",
    "\n",
    "  def action(self, state):\n",
    "    if random.random() < self.rng:\n",
    "      return random.randint(0, self.n_actions - 1)\n",
    "    else:\n",
    "      return np.argmax(self.predict(state))\n",
    "\n",
    "  def predict(self, state):\n",
    "    return self.model.predict(np.expand_dims(state, axis=0))\n",
    "\n",
    "  def train(self):\n",
    "    if len(self.memory) < 5_000:\n",
    "      return\n",
    "\n",
    "    self.decay_ctr += 1\n",
    "    self.transfer_weight_ctr += 1\n",
    "\n",
    "    mini_batch = random.sample(self.memory, 32)\n",
    "    states = np.array([memory[0] for memory in mini_batch])\n",
    "    states_ = np.array([memory[3] for memory in mini_batch])\n",
    "    qs = self.model.predict(states)\n",
    "    qs_ = self.target_model.predict(states_)\n",
    "\n",
    "    X = states\n",
    "    y = []\n",
    "\n",
    "    for i, memory in enumerate(mini_batch):\n",
    "      action = memory[1]\n",
    "      reward = memory[2]\n",
    "      done = memory[4]\n",
    "\n",
    "      if done:\n",
    "        q = reward\n",
    "      else:\n",
    "        q = reward + self.discount * np.max(qs_[i])\n",
    "\n",
    "      qs[i][action] = q\n",
    "      y.append(qs)\n",
    "    \n",
    "    self.model.fit(X, np.array(y), verbose=0, shuffle=False)\n",
    "\n",
    "    if self.decay_ctr > 10:\n",
    "      self.decay_rng()\n",
    "      self.decay_ctr = 0\n",
    "\n",
    "    if self.transfer_weight_ctr > 50:\n",
    "      self.transfer_weights()\n",
    "      self.transfer_weight_ctr = 0\n",
    "\n",
    "  def decay_rng(self):\n",
    "    self.rng = self.rng * self.rng_decay\n",
    "    if self.rng < self.rng_min:\n",
    "      self.rng = self.rng_min\n",
    "\n",
    "  def transfer_weights(self):\n",
    "    self.target_model.set_weights(self.model.get_weights())"
   ]
  },
  {
   "cell_type": "code",
   "execution_count": 7,
   "metadata": {},
   "outputs": [],
   "source": [
    "env = gym.make('Breakout-v0')"
   ]
  },
  {
   "cell_type": "code",
   "execution_count": 8,
   "metadata": {
    "id": "peYQp8fdUl65"
   },
   "outputs": [],
   "source": [
    "agent = DQN_Agent((84, 84, 2) , env.action_space.n)\n",
    "score_record = []"
   ]
  },
  {
   "cell_type": "code",
   "execution_count": 9,
   "metadata": {
    "colab": {
     "base_uri": "https://localhost:8080/"
    },
    "id": "TcV7g3Gpr4Y2",
    "outputId": "1a206c66-57fb-47fc-8b3c-caccc8897d4b"
   },
   "outputs": [
    {
     "name": "stdout",
     "output_type": "stream",
     "text": [
      "Model: \"model\"\n",
      "__________________________________________________________________________________________________\n",
      "Layer (type)                    Output Shape         Param #     Connected to                     \n",
      "==================================================================================================\n",
      "input_2 (InputLayer)            [(None, 84, 84, 2)]  0                                            \n",
      "__________________________________________________________________________________________________\n",
      "conv2d_3 (Conv2D)               (None, 21, 21, 16)   2064        input_2[0][0]                    \n",
      "__________________________________________________________________________________________________\n",
      "conv2d_4 (Conv2D)               (None, 11, 11, 32)   8224        conv2d_3[0][0]                   \n",
      "__________________________________________________________________________________________________\n",
      "conv2d_5 (Conv2D)               (None, 11, 11, 64)   8256        conv2d_4[0][0]                   \n",
      "__________________________________________________________________________________________________\n",
      "flatten (Flatten)               (None, 7744)         0           conv2d_5[0][0]                   \n",
      "__________________________________________________________________________________________________\n",
      "dense (Dense)                   (None, 256)          1982720     flatten[0][0]                    \n",
      "__________________________________________________________________________________________________\n",
      "dense_1 (Dense)                 (None, 128)          32896       dense[0][0]                      \n",
      "__________________________________________________________________________________________________\n",
      "dense_3 (Dense)                 (None, 4)            516         dense_1[0][0]                    \n",
      "__________________________________________________________________________________________________\n",
      "tf.math.reduce_mean (TFOpLambda (None, 1)            0           dense_3[0][0]                    \n",
      "__________________________________________________________________________________________________\n",
      "dense_2 (Dense)                 (None, 1)            129         dense_1[0][0]                    \n",
      "__________________________________________________________________________________________________\n",
      "tf.math.subtract (TFOpLambda)   (None, 4)            0           dense_3[0][0]                    \n",
      "                                                                 tf.math.reduce_mean[0][0]        \n",
      "__________________________________________________________________________________________________\n",
      "tf.__operators__.add (TFOpLambd (None, 4)            0           dense_2[0][0]                    \n",
      "                                                                 tf.math.subtract[0][0]           \n",
      "==================================================================================================\n",
      "Total params: 2,034,805\n",
      "Trainable params: 2,034,805\n",
      "Non-trainable params: 0\n",
      "__________________________________________________________________________________________________\n"
     ]
    }
   ],
   "source": [
    "agent.model.summary()"
   ]
  },
  {
   "cell_type": "code",
   "execution_count": 10,
   "metadata": {},
   "outputs": [],
   "source": [
    "observation = np.zeros((84, 84, 3), dtype='float')\n",
    "\n",
    "def convert_image(data):\n",
    "    img = Image.fromarray(data).convert(\"L\")\n",
    "    img = img.resize((84,84))\n",
    "    return np.reshape(np.array(img), (84, 84, 1))\n",
    "\n",
    "def add_image(observation, observation_):\n",
    "    observation_ = observation_ / 255\n",
    "    observation[:,:,0] = observation[:,:,1]\n",
    "    observation[:,:,1] = observation[:,:,2]\n",
    "    observation[:,:,2] = observation_[:,:,0]\n",
    "    return observation"
   ]
  },
  {
   "cell_type": "code",
   "execution_count": 11,
   "metadata": {
    "colab": {
     "base_uri": "https://localhost:8080/"
    },
    "id": "UHhKLWp_ULrb",
    "outputId": "37fae7bc-be8e-4b53-f991-e4333848f9ba"
   },
   "outputs": [
    {
     "name": "stdout",
     "output_type": "stream",
     "text": [
      "Episode: 50\n",
      "Score: 1.0\n",
      "Agent RNG: 0.8265651079747222\n"
     ]
    }
   ],
   "source": [
    "episodes = 50\n",
    "for episode in range(1, (episodes + 1)):\n",
    "  state = env.reset()\n",
    "  observation = add_image(observation, convert_image(state))\n",
    "  done = False\n",
    "  score = 0\n",
    "  train_step = 0\n",
    "  while not done:\n",
    "    env.render()\n",
    "    action = agent.action(observation[:,:,1:])\n",
    "    state, reward, done, info = env.step(action)\n",
    "    observation = add_image(observation, convert_image(state))\n",
    "    score += reward\n",
    "    \n",
    "    train_step += 1\n",
    "\n",
    "    reward = (reward * 10) + 1\n",
    "    \n",
    "    if done:\n",
    "      reward = -20\n",
    "    \n",
    "    agent.remember(observation[:,:,0:2], action, reward, observation[:,:,1:], done)\n",
    "    if train_step > 15:\n",
    "        agent.train()\n",
    "        train_step = 0\n",
    "\n",
    "    if done:\n",
    "      clear_output(wait=True)\n",
    "      print(f'Episode: {episode}\\nScore: {score}\\nAgent RNG: {agent.rng}')\n",
    "      score_record.append(score)\n",
    "    \n",
    "env.close()"
   ]
  },
  {
   "cell_type": "code",
   "execution_count": 12,
   "metadata": {
    "id": "bS4ceZumbU0c"
   },
   "outputs": [
    {
     "data": {
      "text/plain": [
       "[<matplotlib.lines.Line2D at 0x19179ae7400>]"
      ]
     },
     "execution_count": 12,
     "metadata": {},
     "output_type": "execute_result"
    },
    {
     "data": {
      "image/png": "[encoded data removed]",
      "text/plain": [
       "<Figure size 432x288 with 1 Axes>"
      ]
     },
     "metadata": {
      "needs_background": "light"
     },
     "output_type": "display_data"
    }
   ],
   "source": [
    "plt.plot(score_record)"
   ]
  },
  {
   "cell_type": "code",
   "execution_count": 8,
   "metadata": {
    "id": "ft3OjWs5YKuJ"
   },
   "outputs": [],
   "source": [
    "def save_score():\n",
    "  fh = open('score.txt', 'a')\n",
    "  fh.write(score)\n",
    "  fh.close()"
   ]
  }
 ],
 "metadata": {
  "colab": {
   "collapsed_sections": [],
   "name": "dqn_vanilla.ipynb",
   "provenance": []
  },
  "kernelspec": {
   "display_name": "Python 3",
   "language": "python",
   "name": "python3"
  },
  "language_info": {
   "codemirror_mode": {
    "name": "ipython",
    "version": 3
   },
   "file_extension": ".py",
   "mimetype": "text/x-python",
   "name": "python",
   "nbconvert_exporter": "python",
   "pygments_lexer": "ipython3",
   "version": "3.8.5"
  }
 },
 "nbformat": 4,
 "nbformat_minor": 4
}
